{
 "cells": [
  {
   "cell_type": "markdown",
   "metadata": {},
   "source": [
    "# MOVIE RECOMMENDATION SYSTEM"
   ]
  },
  {
   "cell_type": "markdown",
   "metadata": {},
   "source": [
    "BY:\n",
    "    "
   ]
  },
  {
   "cell_type": "markdown",
   "metadata": {},
   "source": [
    "## Overview"
   ]
  },
  {
   "cell_type": "markdown",
   "metadata": {},
   "source": [
    "Developing a movie recommendation system to improve the user experience in the entertainment industry. By leveraging historical data , our project aims to enhance customer satisfaction by providing personalized movie suggestions, fostering engagement, and driving user retention"
   ]
  },
  {
   "cell_type": "markdown",
   "metadata": {},
   "source": [
    "##  Business Understanding</small>"
   ]
  },
  {
   "cell_type": "markdown",
   "metadata": {},
   "source": [
    "### Background\n",
    "In this project, our objective is to develop a movie recommendation system utilizing the MovieLens dataset sourced from the GroupLens research lab at the University of Minnesota. This dataset contains user ratings for movies and is widely recognized in academic research and machine learning experiments.\n",
    "\n",
    "### Business Problem\n",
    "The primary goal is to enhance the user experience by providing personalized movie recommendations. The system will suggest the top 5 movies to each user based on their previous ratings. This tailored recommendation system aims to boost user engagement, satisfaction, and overall retention within a movie-streaming platform.\n",
    "\n",
    "### User Interaction\n",
    "Users will interact with the system through the movie-streaming platform, providing feedback through explicit ratings or indicating preferences through likes, dislikes, or their viewing history. The system's design should seamlessly integrate into the platform's user interface, ensuring a smooth and enjoyable user experience.\n",
    "\n",
    "### Collaborative Filtering\n",
    "The recommendation system will heavily rely on collaborative filtering as its primary mechanism. This technique involves making predictions about a user's preferences by aggregating insights from numerous users. Additionally, we may explore a hybrid approach, incorporating content-based filtering to tackle the cold start problem – a scenario where new or unrated movies necessitate recommendations.\n",
    "\n",
    "### Evaluation Metrics\n",
    "To gauge the effectiveness of our recommendation system, we will employ pertinent metrics. Traditional regression metrics like Root Mean Squared Error (RMSE) and Mean Absolute Error (MAE) will be utilized to quantify the accuracy of predictions. These metrics offer valuable insights into the system's proficiency in forecasting user preferences, guiding us in refining its performance."
   ]
  },
  {
   "cell_type": "markdown",
   "metadata": {},
   "source": [
    "**PROBLEM STATEMENT**\n",
    "\n",
    "With so many movie alternatives available nowadays, people find it difficult to choose films that suit their tastes due to information overload. Manual searches take a lot of time, which causes decision fatigue and lowers user engagement on a platform. A customized movie recommendation system that makes use of user-specific information and collaborative filtering methods will address this. By creating an effective recommendation engine that smoothly connects with user profiles, this project seeks to improve user satisfaction and retention by enabling a more efficient and enjoyable exploration of the extensive movie catalogs."
   ]
  },
  {
   "cell_type": "markdown",
   "metadata": {},
   "source": [
    "**OBJECTIVES**\n",
    "\n",
    "Main objective:\n",
    "\n",
    "* To provide personalized movie recommendations tailored to individual user preferences. \n",
    "\n",
    "Specific objectives:\n",
    "\n",
    "* To find the most popular movies by genre \n",
    "* To build a recommendation system that scales efficiently with a growing user base and an expanding movie catalog.\n",
    "* To provide near-real-time movie recommendations based on user interactions"
   ]
  },
  {
   "cell_type": "markdown",
   "metadata": {},
   "source": [
    "##  Reading the data"
   ]
  },
  {
   "cell_type": "code",
   "execution_count": 76,
   "metadata": {},
   "outputs": [
    {
     "name": "stderr",
     "output_type": "stream",
     "text": [
      "[nltk_data] Downloading package stopwords to\n",
      "[nltk_data]     C:\\Users\\nimu\\AppData\\Roaming\\nltk_data...\n",
      "[nltk_data]   Package stopwords is already up-to-date!\n",
      "[nltk_data] Downloading package punkt to\n",
      "[nltk_data]     C:\\Users\\nimu\\AppData\\Roaming\\nltk_data...\n",
      "[nltk_data]   Package punkt is already up-to-date!\n"
     ]
    },
    {
     "data": {
      "text/plain": [
       "True"
      ]
     },
     "execution_count": 76,
     "metadata": {},
     "output_type": "execute_result"
    }
   ],
   "source": [
    "# Importing the necessary libraries \n",
    "import pandas as pd\n",
    "import numpy as np \n",
    "\n",
    "import seaborn as sns\n",
    "import matplotlib.pyplot as plt \n",
    "%matplotlib inline\n",
    "\n",
    "\n",
    "import warnings\n",
    "warnings.filterwarnings(\"ignore\")\n",
    "\n",
    "\n",
    "import re\n",
    "from sklearn.metrics.pairwise import cosine_similarity\n",
    "from sklearn.feature_extraction.text import TfidfVectorizer\n",
    "from sklearn.metrics.pairwise import cosine_similarity\n",
    "\n",
    "\n",
    "import nltk\n",
    "from nltk.corpus import stopwords\n",
    "from nltk.tokenize import word_tokenize\n",
    "\n",
    "import surprise\n",
    "\n",
    "# Download NLTK stopwords if not already downloaded\n",
    "nltk.download('stopwords')\n",
    "nltk.download('punkt')"
   ]
  },
  {
   "cell_type": "code",
   "execution_count": 3,
   "metadata": {},
   "outputs": [
    {
     "name": "stdout",
     "output_type": "stream",
     "text": [
      "Dataframe shape (3683, 4)\n",
      "Dataframe shape (9742, 3)\n",
      "Dataframe shape (100836, 4)\n"
     ]
    }
   ],
   "source": [
    "# Loading the datasets\n",
    "\n",
    "tags_data = pd.read_csv(r\"C:\\Users\\nimu\\Downloads\\ml-latest-small\\ml-latest-small\\tags.csv\")\n",
    "movies_data = pd.read_csv(r\"C:\\Users\\nimu\\Downloads\\ml-latest-small\\ml-latest-small\\movies.csv\")\n",
    "ratings_data = pd.read_csv(r\"C:\\Users\\nimu\\Downloads\\ml-latest-small\\ml-latest-small\\ratings.csv\")\n",
    "\n",
    "# Preview the shape of the dataset\n",
    "print('Dataframe shape {}'.format(tags_data.shape))\n",
    "print('Dataframe shape {}'.format(movies_data.shape))\n",
    "print('Dataframe shape {}'.format(ratings_data.shape))"
   ]
  },
  {
   "cell_type": "code",
   "execution_count": 36,
   "metadata": {},
   "outputs": [
    {
     "data": {
      "text/html": [
       "<div>\n",
       "<style scoped>\n",
       "    .dataframe tbody tr th:only-of-type {\n",
       "        vertical-align: middle;\n",
       "    }\n",
       "\n",
       "    .dataframe tbody tr th {\n",
       "        vertical-align: top;\n",
       "    }\n",
       "\n",
       "    .dataframe thead th {\n",
       "        text-align: right;\n",
       "    }\n",
       "</style>\n",
       "<table border=\"1\" class=\"dataframe\">\n",
       "  <thead>\n",
       "    <tr style=\"text-align: right;\">\n",
       "      <th></th>\n",
       "      <th>movieId</th>\n",
       "      <th>title</th>\n",
       "      <th>genres</th>\n",
       "      <th>userId_x</th>\n",
       "      <th>tag</th>\n",
       "      <th>timestamp_x</th>\n",
       "      <th>userId_y</th>\n",
       "      <th>rating</th>\n",
       "      <th>timestamp_y</th>\n",
       "    </tr>\n",
       "  </thead>\n",
       "  <tbody>\n",
       "    <tr>\n",
       "      <th>0</th>\n",
       "      <td>1</td>\n",
       "      <td>Toy Story (1995)</td>\n",
       "      <td>Adventure|Animation|Children|Comedy|Fantasy</td>\n",
       "      <td>336</td>\n",
       "      <td>pixar</td>\n",
       "      <td>1139045764</td>\n",
       "      <td>1</td>\n",
       "      <td>4.0</td>\n",
       "      <td>964982703</td>\n",
       "    </tr>\n",
       "    <tr>\n",
       "      <th>1</th>\n",
       "      <td>1</td>\n",
       "      <td>Toy Story (1995)</td>\n",
       "      <td>Adventure|Animation|Children|Comedy|Fantasy</td>\n",
       "      <td>336</td>\n",
       "      <td>pixar</td>\n",
       "      <td>1139045764</td>\n",
       "      <td>5</td>\n",
       "      <td>4.0</td>\n",
       "      <td>847434962</td>\n",
       "    </tr>\n",
       "    <tr>\n",
       "      <th>2</th>\n",
       "      <td>1</td>\n",
       "      <td>Toy Story (1995)</td>\n",
       "      <td>Adventure|Animation|Children|Comedy|Fantasy</td>\n",
       "      <td>336</td>\n",
       "      <td>pixar</td>\n",
       "      <td>1139045764</td>\n",
       "      <td>7</td>\n",
       "      <td>4.5</td>\n",
       "      <td>1106635946</td>\n",
       "    </tr>\n",
       "    <tr>\n",
       "      <th>3</th>\n",
       "      <td>1</td>\n",
       "      <td>Toy Story (1995)</td>\n",
       "      <td>Adventure|Animation|Children|Comedy|Fantasy</td>\n",
       "      <td>336</td>\n",
       "      <td>pixar</td>\n",
       "      <td>1139045764</td>\n",
       "      <td>15</td>\n",
       "      <td>2.5</td>\n",
       "      <td>1510577970</td>\n",
       "    </tr>\n",
       "    <tr>\n",
       "      <th>4</th>\n",
       "      <td>1</td>\n",
       "      <td>Toy Story (1995)</td>\n",
       "      <td>Adventure|Animation|Children|Comedy|Fantasy</td>\n",
       "      <td>336</td>\n",
       "      <td>pixar</td>\n",
       "      <td>1139045764</td>\n",
       "      <td>17</td>\n",
       "      <td>4.5</td>\n",
       "      <td>1305696483</td>\n",
       "    </tr>\n",
       "  </tbody>\n",
       "</table>\n",
       "</div>"
      ],
      "text/plain": [
       "   movieId             title                                       genres  \\\n",
       "0        1  Toy Story (1995)  Adventure|Animation|Children|Comedy|Fantasy   \n",
       "1        1  Toy Story (1995)  Adventure|Animation|Children|Comedy|Fantasy   \n",
       "2        1  Toy Story (1995)  Adventure|Animation|Children|Comedy|Fantasy   \n",
       "3        1  Toy Story (1995)  Adventure|Animation|Children|Comedy|Fantasy   \n",
       "4        1  Toy Story (1995)  Adventure|Animation|Children|Comedy|Fantasy   \n",
       "\n",
       "   userId_x    tag  timestamp_x  userId_y  rating  timestamp_y  \n",
       "0       336  pixar   1139045764         1     4.0    964982703  \n",
       "1       336  pixar   1139045764         5     4.0    847434962  \n",
       "2       336  pixar   1139045764         7     4.5   1106635946  \n",
       "3       336  pixar   1139045764        15     2.5   1510577970  \n",
       "4       336  pixar   1139045764        17     4.5   1305696483  "
      ]
     },
     "execution_count": 36,
     "metadata": {},
     "output_type": "execute_result"
    }
   ],
   "source": [
    "# Merge movies_data and tags_data on 'movieId'\n",
    "merged_df = pd.merge(movies_data, tags_data, on='movieId', how='inner')\n",
    "\n",
    "# Merge the result with ratings_data on 'movieId'\n",
    "merged_df = pd.merge(merged_df, ratings_data, on='movieId', how='inner')\n",
    "\n",
    "# Display the resulting DataFrame\n",
    "merged_df.head()"
   ]
  },
  {
   "cell_type": "code",
   "execution_count": 5,
   "metadata": {},
   "outputs": [
    {
     "data": {
      "text/plain": [
       "(233213, 9)"
      ]
     },
     "execution_count": 5,
     "metadata": {},
     "output_type": "execute_result"
    }
   ],
   "source": [
    "merged_df.shape"
   ]
  },
  {
   "cell_type": "code",
   "execution_count": 6,
   "metadata": {},
   "outputs": [],
   "source": [
    "#  Creating a class for exploring and analyzing Pandas DataFrames.\n",
    "class DataExplorer:\n",
    "    def __init__(self, data):\n",
    "        \"\"\"\n",
    "        Initialize the DataExplorer class with a dataset.\n",
    "        :param data: Pandas DataFrame\n",
    "        \"\"\"\n",
    "        self.data = data\n",
    "        \n",
    "    def check_head(self, rows=5):\n",
    "        \"\"\"\n",
    "        Display the first few rows of the dataset.\n",
    "        :return: Pandas DataFrame showing the head of the dataset\n",
    "        \"\"\"\n",
    "        return self.data.head(rows)\n",
    "    \n",
    "    def check_info(self):\n",
    "        \"\"\"\n",
    "        Display information about the dataset (data types, memory usage, etc.).\n",
    "        \"\"\"\n",
    "        return self.data.info()\n",
    "    \n",
    "    def check_describe(self):\n",
    "        \"\"\"\n",
    "        Generate descriptive statistics of the dataset (count, mean, etc.).\n",
    "        :return: Pandas DataFrame with descriptive statistics\n",
    "        \"\"\"\n",
    "        return self.data.describe()\n",
    "    "
   ]
  },
  {
   "cell_type": "code",
   "execution_count": 7,
   "metadata": {},
   "outputs": [
    {
     "name": "stdout",
     "output_type": "stream",
     "text": [
      "Head of the dataset:\n",
      "   movieId             title                                       genres  \\\n",
      "0        1  Toy Story (1995)  Adventure|Animation|Children|Comedy|Fantasy   \n",
      "1        1  Toy Story (1995)  Adventure|Animation|Children|Comedy|Fantasy   \n",
      "2        1  Toy Story (1995)  Adventure|Animation|Children|Comedy|Fantasy   \n",
      "3        1  Toy Story (1995)  Adventure|Animation|Children|Comedy|Fantasy   \n",
      "4        1  Toy Story (1995)  Adventure|Animation|Children|Comedy|Fantasy   \n",
      "\n",
      "   userId_x    tag  timestamp_x  userId_y  rating  timestamp_y  \n",
      "0       336  pixar   1139045764         1     4.0    964982703  \n",
      "1       336  pixar   1139045764         5     4.0    847434962  \n",
      "2       336  pixar   1139045764         7     4.5   1106635946  \n",
      "3       336  pixar   1139045764        15     2.5   1510577970  \n",
      "4       336  pixar   1139045764        17     4.5   1305696483  \n",
      "\n",
      "Dataset info:\n",
      "<class 'pandas.core.frame.DataFrame'>\n",
      "Int64Index: 233213 entries, 0 to 233212\n",
      "Data columns (total 9 columns):\n",
      " #   Column       Non-Null Count   Dtype  \n",
      "---  ------       --------------   -----  \n",
      " 0   movieId      233213 non-null  int64  \n",
      " 1   title        233213 non-null  object \n",
      " 2   genres       233213 non-null  object \n",
      " 3   userId_x     233213 non-null  int64  \n",
      " 4   tag          233213 non-null  object \n",
      " 5   timestamp_x  233213 non-null  int64  \n",
      " 6   userId_y     233213 non-null  int64  \n",
      " 7   rating       233213 non-null  float64\n",
      " 8   timestamp_y  233213 non-null  int64  \n",
      "dtypes: float64(1), int64(5), object(3)\n",
      "memory usage: 17.8+ MB\n",
      "\n",
      "Dataset statistics:\n",
      "             movieId       userId_x   timestamp_x       userId_y  \\\n",
      "count  233213.000000  233213.000000  2.332130e+05  233213.000000   \n",
      "mean    12319.999443     470.683564  1.384774e+09     309.688191   \n",
      "std     28243.919401     153.329632  1.534621e+08     178.206387   \n",
      "min         1.000000       2.000000  1.137179e+09       1.000000   \n",
      "25%       296.000000     424.000000  1.242494e+09     156.000000   \n",
      "50%      1198.000000     477.000000  1.457901e+09     309.000000   \n",
      "75%      4638.000000     599.000000  1.498457e+09     460.000000   \n",
      "max    193565.000000     610.000000  1.537099e+09     610.000000   \n",
      "\n",
      "              rating   timestamp_y  \n",
      "count  233213.000000  2.332130e+05  \n",
      "mean        3.966535  1.213524e+09  \n",
      "std         0.968637  2.250448e+08  \n",
      "min         0.500000  8.281246e+08  \n",
      "25%         3.500000  1.017365e+09  \n",
      "50%         4.000000  1.217325e+09  \n",
      "75%         5.000000  1.443201e+09  \n",
      "max         5.000000  1.537799e+09  \n"
     ]
    }
   ],
   "source": [
    "# Instatiating the class\n",
    "explorer = DataExplorer(merged_df)\n",
    "\n",
    "# Check the head of the dataset\n",
    "print(\"Head of the dataset:\")\n",
    "print(explorer.check_head())\n",
    "\n",
    "# Check dataset info\n",
    "print(\"\\nDataset info:\")\n",
    "explorer.check_info()\n",
    "\n",
    "# Check dataset description\n",
    "print(\"\\nDataset statistics:\")\n",
    "print(explorer.check_describe())"
   ]
  },
  {
   "cell_type": "markdown",
   "metadata": {},
   "source": [
    "# Data Cleaning"
   ]
  },
  {
   "cell_type": "markdown",
   "metadata": {},
   "source": [
    "This section prepares the data for EDA and modeling. The dataset will be checked for:\n",
    "\n",
    "- duplicated rows\n",
    "- missing values\n",
    "- extracting release year from title"
   ]
  },
  {
   "cell_type": "code",
   "execution_count": 38,
   "metadata": {},
   "outputs": [
    {
     "data": {
      "text/plain": [
       "movieId        0\n",
       "title          0\n",
       "genres         0\n",
       "userId_x       0\n",
       "tag            0\n",
       "timestamp_x    0\n",
       "userId_y       0\n",
       "rating         0\n",
       "timestamp_y    0\n",
       "dtype: int64"
      ]
     },
     "execution_count": 38,
     "metadata": {},
     "output_type": "execute_result"
    }
   ],
   "source": [
    "# Checking for missing values in the dataset\n",
    "merged_df.isnull().sum()"
   ]
  },
  {
   "cell_type": "markdown",
   "metadata": {},
   "source": [
    "The data has a no missing values."
   ]
  },
  {
   "cell_type": "code",
   "execution_count": 9,
   "metadata": {},
   "outputs": [
    {
     "data": {
      "text/html": [
       "<div>\n",
       "<style scoped>\n",
       "    .dataframe tbody tr th:only-of-type {\n",
       "        vertical-align: middle;\n",
       "    }\n",
       "\n",
       "    .dataframe tbody tr th {\n",
       "        vertical-align: top;\n",
       "    }\n",
       "\n",
       "    .dataframe thead th {\n",
       "        text-align: right;\n",
       "    }\n",
       "</style>\n",
       "<table border=\"1\" class=\"dataframe\">\n",
       "  <thead>\n",
       "    <tr style=\"text-align: right;\">\n",
       "      <th></th>\n",
       "      <th>movieId</th>\n",
       "      <th>title</th>\n",
       "      <th>genres</th>\n",
       "      <th>userId_x</th>\n",
       "      <th>tag</th>\n",
       "      <th>timestamp_x</th>\n",
       "      <th>userId_y</th>\n",
       "      <th>rating</th>\n",
       "      <th>timestamp_y</th>\n",
       "    </tr>\n",
       "  </thead>\n",
       "  <tbody>\n",
       "    <tr>\n",
       "      <th>0</th>\n",
       "      <td>1</td>\n",
       "      <td>Toy Story (1995)</td>\n",
       "      <td>Adventure|Animation|Children|Comedy|Fantasy</td>\n",
       "      <td>336</td>\n",
       "      <td>pixar</td>\n",
       "      <td>1139045764</td>\n",
       "      <td>1</td>\n",
       "      <td>4.0</td>\n",
       "      <td>964982703</td>\n",
       "    </tr>\n",
       "    <tr>\n",
       "      <th>1</th>\n",
       "      <td>1</td>\n",
       "      <td>Toy Story (1995)</td>\n",
       "      <td>Adventure|Animation|Children|Comedy|Fantasy</td>\n",
       "      <td>336</td>\n",
       "      <td>pixar</td>\n",
       "      <td>1139045764</td>\n",
       "      <td>5</td>\n",
       "      <td>4.0</td>\n",
       "      <td>847434962</td>\n",
       "    </tr>\n",
       "    <tr>\n",
       "      <th>2</th>\n",
       "      <td>1</td>\n",
       "      <td>Toy Story (1995)</td>\n",
       "      <td>Adventure|Animation|Children|Comedy|Fantasy</td>\n",
       "      <td>336</td>\n",
       "      <td>pixar</td>\n",
       "      <td>1139045764</td>\n",
       "      <td>7</td>\n",
       "      <td>4.5</td>\n",
       "      <td>1106635946</td>\n",
       "    </tr>\n",
       "    <tr>\n",
       "      <th>3</th>\n",
       "      <td>1</td>\n",
       "      <td>Toy Story (1995)</td>\n",
       "      <td>Adventure|Animation|Children|Comedy|Fantasy</td>\n",
       "      <td>336</td>\n",
       "      <td>pixar</td>\n",
       "      <td>1139045764</td>\n",
       "      <td>15</td>\n",
       "      <td>2.5</td>\n",
       "      <td>1510577970</td>\n",
       "    </tr>\n",
       "    <tr>\n",
       "      <th>4</th>\n",
       "      <td>1</td>\n",
       "      <td>Toy Story (1995)</td>\n",
       "      <td>Adventure|Animation|Children|Comedy|Fantasy</td>\n",
       "      <td>336</td>\n",
       "      <td>pixar</td>\n",
       "      <td>1139045764</td>\n",
       "      <td>17</td>\n",
       "      <td>4.5</td>\n",
       "      <td>1305696483</td>\n",
       "    </tr>\n",
       "  </tbody>\n",
       "</table>\n",
       "</div>"
      ],
      "text/plain": [
       "   movieId             title                                       genres  \\\n",
       "0        1  Toy Story (1995)  Adventure|Animation|Children|Comedy|Fantasy   \n",
       "1        1  Toy Story (1995)  Adventure|Animation|Children|Comedy|Fantasy   \n",
       "2        1  Toy Story (1995)  Adventure|Animation|Children|Comedy|Fantasy   \n",
       "3        1  Toy Story (1995)  Adventure|Animation|Children|Comedy|Fantasy   \n",
       "4        1  Toy Story (1995)  Adventure|Animation|Children|Comedy|Fantasy   \n",
       "\n",
       "   userId_x    tag  timestamp_x  userId_y  rating  timestamp_y  \n",
       "0       336  pixar   1139045764         1     4.0    964982703  \n",
       "1       336  pixar   1139045764         5     4.0    847434962  \n",
       "2       336  pixar   1139045764         7     4.5   1106635946  \n",
       "3       336  pixar   1139045764        15     2.5   1510577970  \n",
       "4       336  pixar   1139045764        17     4.5   1305696483  "
      ]
     },
     "execution_count": 9,
     "metadata": {},
     "output_type": "execute_result"
    }
   ],
   "source": [
    "merged_df.head()"
   ]
  },
  {
   "cell_type": "code",
   "execution_count": 35,
   "metadata": {},
   "outputs": [
    {
     "data": {
      "text/plain": [
       "0"
      ]
     },
     "execution_count": 35,
     "metadata": {},
     "output_type": "execute_result"
    }
   ],
   "source": [
    "# Checking for duplicates\n",
    "merged_df.duplicated().sum().T"
   ]
  },
  {
   "cell_type": "markdown",
   "metadata": {},
   "source": []
  },
  {
   "cell_type": "code",
   "execution_count": 56,
   "metadata": {},
   "outputs": [
    {
     "data": {
      "text/html": [
       "<div>\n",
       "<style scoped>\n",
       "    .dataframe tbody tr th:only-of-type {\n",
       "        vertical-align: middle;\n",
       "    }\n",
       "\n",
       "    .dataframe tbody tr th {\n",
       "        vertical-align: top;\n",
       "    }\n",
       "\n",
       "    .dataframe thead th {\n",
       "        text-align: right;\n",
       "    }\n",
       "</style>\n",
       "<table border=\"1\" class=\"dataframe\">\n",
       "  <thead>\n",
       "    <tr style=\"text-align: right;\">\n",
       "      <th></th>\n",
       "      <th>movieId</th>\n",
       "      <th>title</th>\n",
       "      <th>genres</th>\n",
       "      <th>userId_x</th>\n",
       "      <th>tag</th>\n",
       "      <th>timestamp_x</th>\n",
       "      <th>userId_y</th>\n",
       "      <th>rating</th>\n",
       "      <th>timestamp_y</th>\n",
       "      <th>year</th>\n",
       "    </tr>\n",
       "  </thead>\n",
       "  <tbody>\n",
       "    <tr>\n",
       "      <th>0</th>\n",
       "      <td>1</td>\n",
       "      <td>Toy Story</td>\n",
       "      <td>[Adventure, Animation, Children, Comedy, Fantasy]</td>\n",
       "      <td>336</td>\n",
       "      <td>pixar</td>\n",
       "      <td>1139045764</td>\n",
       "      <td>1</td>\n",
       "      <td>4.0</td>\n",
       "      <td>964982703</td>\n",
       "      <td>1995</td>\n",
       "    </tr>\n",
       "    <tr>\n",
       "      <th>1</th>\n",
       "      <td>1</td>\n",
       "      <td>Toy Story</td>\n",
       "      <td>[Adventure, Animation, Children, Comedy, Fantasy]</td>\n",
       "      <td>336</td>\n",
       "      <td>pixar</td>\n",
       "      <td>1139045764</td>\n",
       "      <td>5</td>\n",
       "      <td>4.0</td>\n",
       "      <td>847434962</td>\n",
       "      <td>1995</td>\n",
       "    </tr>\n",
       "    <tr>\n",
       "      <th>2</th>\n",
       "      <td>1</td>\n",
       "      <td>Toy Story</td>\n",
       "      <td>[Adventure, Animation, Children, Comedy, Fantasy]</td>\n",
       "      <td>336</td>\n",
       "      <td>pixar</td>\n",
       "      <td>1139045764</td>\n",
       "      <td>7</td>\n",
       "      <td>4.5</td>\n",
       "      <td>1106635946</td>\n",
       "      <td>1995</td>\n",
       "    </tr>\n",
       "    <tr>\n",
       "      <th>3</th>\n",
       "      <td>1</td>\n",
       "      <td>Toy Story</td>\n",
       "      <td>[Adventure, Animation, Children, Comedy, Fantasy]</td>\n",
       "      <td>336</td>\n",
       "      <td>pixar</td>\n",
       "      <td>1139045764</td>\n",
       "      <td>15</td>\n",
       "      <td>2.5</td>\n",
       "      <td>1510577970</td>\n",
       "      <td>1995</td>\n",
       "    </tr>\n",
       "    <tr>\n",
       "      <th>4</th>\n",
       "      <td>1</td>\n",
       "      <td>Toy Story</td>\n",
       "      <td>[Adventure, Animation, Children, Comedy, Fantasy]</td>\n",
       "      <td>336</td>\n",
       "      <td>pixar</td>\n",
       "      <td>1139045764</td>\n",
       "      <td>17</td>\n",
       "      <td>4.5</td>\n",
       "      <td>1305696483</td>\n",
       "      <td>1995</td>\n",
       "    </tr>\n",
       "  </tbody>\n",
       "</table>\n",
       "</div>"
      ],
      "text/plain": [
       "   movieId      title                                             genres  \\\n",
       "0        1  Toy Story  [Adventure, Animation, Children, Comedy, Fantasy]   \n",
       "1        1  Toy Story  [Adventure, Animation, Children, Comedy, Fantasy]   \n",
       "2        1  Toy Story  [Adventure, Animation, Children, Comedy, Fantasy]   \n",
       "3        1  Toy Story  [Adventure, Animation, Children, Comedy, Fantasy]   \n",
       "4        1  Toy Story  [Adventure, Animation, Children, Comedy, Fantasy]   \n",
       "\n",
       "   userId_x    tag  timestamp_x  userId_y  rating  timestamp_y  year  \n",
       "0       336  pixar   1139045764         1     4.0    964982703  1995  \n",
       "1       336  pixar   1139045764         5     4.0    847434962  1995  \n",
       "2       336  pixar   1139045764         7     4.5   1106635946  1995  \n",
       "3       336  pixar   1139045764        15     2.5   1510577970  1995  \n",
       "4       336  pixar   1139045764        17     4.5   1305696483  1995  "
      ]
     },
     "execution_count": 56,
     "metadata": {},
     "output_type": "execute_result"
    }
   ],
   "source": [
    "# Function to extract the year from the title\n",
    "def extract_year(title):\n",
    "    match = re.search(r'\\((\\d{4})\\)', title)\n",
    "    return match.group(1) if match else None\n",
    "\n",
    "# Apply the function to create a new 'year' column\n",
    "merged_df['year'] = merged_df['title'].apply(extract_year)\n",
    "\n",
    "# Remove the year from the 'title' column\n",
    "merged_df['title'] = merged_df['title'].str.replace(r'\\s*\\(\\d{4}\\)', '', regex=True)\n",
    "\n",
    "# Display the updated DataFram\n",
    "merged_df.head()"
   ]
  },
  {
   "cell_type": "code",
   "execution_count": 58,
   "metadata": {},
   "outputs": [
    {
     "data": {
      "text/html": [
       "<div>\n",
       "<style scoped>\n",
       "    .dataframe tbody tr th:only-of-type {\n",
       "        vertical-align: middle;\n",
       "    }\n",
       "\n",
       "    .dataframe tbody tr th {\n",
       "        vertical-align: top;\n",
       "    }\n",
       "\n",
       "    .dataframe thead th {\n",
       "        text-align: right;\n",
       "    }\n",
       "</style>\n",
       "<table border=\"1\" class=\"dataframe\">\n",
       "  <thead>\n",
       "    <tr style=\"text-align: right;\">\n",
       "      <th></th>\n",
       "      <th>movieId</th>\n",
       "      <th>title</th>\n",
       "      <th>genres</th>\n",
       "      <th>userId_x</th>\n",
       "      <th>tag</th>\n",
       "      <th>timestamp_x</th>\n",
       "      <th>userId_y</th>\n",
       "      <th>rating</th>\n",
       "      <th>timestamp_y</th>\n",
       "      <th>year</th>\n",
       "    </tr>\n",
       "  </thead>\n",
       "  <tbody>\n",
       "    <tr>\n",
       "      <th>0</th>\n",
       "      <td>1</td>\n",
       "      <td>Toy Story</td>\n",
       "      <td>Adventure</td>\n",
       "      <td>336</td>\n",
       "      <td>pixar</td>\n",
       "      <td>1139045764</td>\n",
       "      <td>1</td>\n",
       "      <td>4.0</td>\n",
       "      <td>964982703</td>\n",
       "      <td>1995</td>\n",
       "    </tr>\n",
       "    <tr>\n",
       "      <th>0</th>\n",
       "      <td>1</td>\n",
       "      <td>Toy Story</td>\n",
       "      <td>Animation</td>\n",
       "      <td>336</td>\n",
       "      <td>pixar</td>\n",
       "      <td>1139045764</td>\n",
       "      <td>1</td>\n",
       "      <td>4.0</td>\n",
       "      <td>964982703</td>\n",
       "      <td>1995</td>\n",
       "    </tr>\n",
       "    <tr>\n",
       "      <th>0</th>\n",
       "      <td>1</td>\n",
       "      <td>Toy Story</td>\n",
       "      <td>Children</td>\n",
       "      <td>336</td>\n",
       "      <td>pixar</td>\n",
       "      <td>1139045764</td>\n",
       "      <td>1</td>\n",
       "      <td>4.0</td>\n",
       "      <td>964982703</td>\n",
       "      <td>1995</td>\n",
       "    </tr>\n",
       "    <tr>\n",
       "      <th>0</th>\n",
       "      <td>1</td>\n",
       "      <td>Toy Story</td>\n",
       "      <td>Comedy</td>\n",
       "      <td>336</td>\n",
       "      <td>pixar</td>\n",
       "      <td>1139045764</td>\n",
       "      <td>1</td>\n",
       "      <td>4.0</td>\n",
       "      <td>964982703</td>\n",
       "      <td>1995</td>\n",
       "    </tr>\n",
       "    <tr>\n",
       "      <th>0</th>\n",
       "      <td>1</td>\n",
       "      <td>Toy Story</td>\n",
       "      <td>Fantasy</td>\n",
       "      <td>336</td>\n",
       "      <td>pixar</td>\n",
       "      <td>1139045764</td>\n",
       "      <td>1</td>\n",
       "      <td>4.0</td>\n",
       "      <td>964982703</td>\n",
       "      <td>1995</td>\n",
       "    </tr>\n",
       "  </tbody>\n",
       "</table>\n",
       "</div>"
      ],
      "text/plain": [
       "   movieId      title     genres  userId_x    tag  timestamp_x  userId_y  \\\n",
       "0        1  Toy Story  Adventure       336  pixar   1139045764         1   \n",
       "0        1  Toy Story  Animation       336  pixar   1139045764         1   \n",
       "0        1  Toy Story   Children       336  pixar   1139045764         1   \n",
       "0        1  Toy Story     Comedy       336  pixar   1139045764         1   \n",
       "0        1  Toy Story    Fantasy       336  pixar   1139045764         1   \n",
       "\n",
       "   rating  timestamp_y  year  \n",
       "0     4.0    964982703  1995  \n",
       "0     4.0    964982703  1995  \n",
       "0     4.0    964982703  1995  \n",
       "0     4.0    964982703  1995  \n",
       "0     4.0    964982703  1995  "
      ]
     },
     "execution_count": 58,
     "metadata": {},
     "output_type": "execute_result"
    }
   ],
   "source": [
    "# # Split the genres column into a list of genres\n",
    "# merged_df['genres'] = merged_df['genres'].str.split('|')\n",
    "merged_df = merged_df.explode('genres')\n",
    "\n",
    "# Display the updated DataFrame\n",
    "merged_df.head()"
   ]
  },
  {
   "cell_type": "code",
   "execution_count": 59,
   "metadata": {},
   "outputs": [
    {
     "name": "stdout",
     "output_type": "stream",
     "text": [
      "Rows with null values in the 'genres' column:\n",
      "Empty DataFrame\n",
      "Columns: [movieId, title, genres, userId_x, tag, timestamp_x, userId_y, rating, timestamp_y, year]\n",
      "Index: []\n"
     ]
    }
   ],
   "source": [
    "# Check for null values within the lists in the 'genres' column\n",
    "null_values_in_genres = merged_df['genres'].apply(lambda x: any(pd.isnull(i) for i in x))\n",
    "\n",
    "# Display the rows where null values are present in the 'genres' column\n",
    "rows_with_null_values = merged_df[null_values_in_genres]\n",
    "print(\"Rows with null values in the 'genres' column:\")\n",
    "print(rows_with_null_values)"
   ]
  },
  {
   "cell_type": "markdown",
   "metadata": {},
   "source": [
    "The genre column has no missing values"
   ]
  },
  {
   "cell_type": "code",
   "execution_count": 60,
   "metadata": {},
   "outputs": [
    {
     "data": {
      "text/html": [
       "<div>\n",
       "<style scoped>\n",
       "    .dataframe tbody tr th:only-of-type {\n",
       "        vertical-align: middle;\n",
       "    }\n",
       "\n",
       "    .dataframe tbody tr th {\n",
       "        vertical-align: top;\n",
       "    }\n",
       "\n",
       "    .dataframe thead th {\n",
       "        text-align: right;\n",
       "    }\n",
       "</style>\n",
       "<table border=\"1\" class=\"dataframe\">\n",
       "  <thead>\n",
       "    <tr style=\"text-align: right;\">\n",
       "      <th></th>\n",
       "      <th>movieId</th>\n",
       "      <th>title</th>\n",
       "      <th>genres</th>\n",
       "      <th>userId_x</th>\n",
       "      <th>tag</th>\n",
       "      <th>timestamp_x</th>\n",
       "      <th>userId_y</th>\n",
       "      <th>rating</th>\n",
       "      <th>timestamp_y</th>\n",
       "      <th>year</th>\n",
       "    </tr>\n",
       "  </thead>\n",
       "  <tbody>\n",
       "    <tr>\n",
       "      <th>0</th>\n",
       "      <td>1</td>\n",
       "      <td>Toy Story</td>\n",
       "      <td>Adventure</td>\n",
       "      <td>336</td>\n",
       "      <td>pixar</td>\n",
       "      <td>1139045764</td>\n",
       "      <td>1</td>\n",
       "      <td>4.0</td>\n",
       "      <td>964982703</td>\n",
       "      <td>1995.0</td>\n",
       "    </tr>\n",
       "    <tr>\n",
       "      <th>0</th>\n",
       "      <td>1</td>\n",
       "      <td>Toy Story</td>\n",
       "      <td>Animation</td>\n",
       "      <td>336</td>\n",
       "      <td>pixar</td>\n",
       "      <td>1139045764</td>\n",
       "      <td>1</td>\n",
       "      <td>4.0</td>\n",
       "      <td>964982703</td>\n",
       "      <td>1995.0</td>\n",
       "    </tr>\n",
       "    <tr>\n",
       "      <th>0</th>\n",
       "      <td>1</td>\n",
       "      <td>Toy Story</td>\n",
       "      <td>Children</td>\n",
       "      <td>336</td>\n",
       "      <td>pixar</td>\n",
       "      <td>1139045764</td>\n",
       "      <td>1</td>\n",
       "      <td>4.0</td>\n",
       "      <td>964982703</td>\n",
       "      <td>1995.0</td>\n",
       "    </tr>\n",
       "    <tr>\n",
       "      <th>0</th>\n",
       "      <td>1</td>\n",
       "      <td>Toy Story</td>\n",
       "      <td>Comedy</td>\n",
       "      <td>336</td>\n",
       "      <td>pixar</td>\n",
       "      <td>1139045764</td>\n",
       "      <td>1</td>\n",
       "      <td>4.0</td>\n",
       "      <td>964982703</td>\n",
       "      <td>1995.0</td>\n",
       "    </tr>\n",
       "    <tr>\n",
       "      <th>0</th>\n",
       "      <td>1</td>\n",
       "      <td>Toy Story</td>\n",
       "      <td>Fantasy</td>\n",
       "      <td>336</td>\n",
       "      <td>pixar</td>\n",
       "      <td>1139045764</td>\n",
       "      <td>1</td>\n",
       "      <td>4.0</td>\n",
       "      <td>964982703</td>\n",
       "      <td>1995.0</td>\n",
       "    </tr>\n",
       "  </tbody>\n",
       "</table>\n",
       "</div>"
      ],
      "text/plain": [
       "   movieId      title     genres  userId_x    tag  timestamp_x  userId_y  \\\n",
       "0        1  Toy Story  Adventure       336  pixar   1139045764         1   \n",
       "0        1  Toy Story  Animation       336  pixar   1139045764         1   \n",
       "0        1  Toy Story   Children       336  pixar   1139045764         1   \n",
       "0        1  Toy Story     Comedy       336  pixar   1139045764         1   \n",
       "0        1  Toy Story    Fantasy       336  pixar   1139045764         1   \n",
       "\n",
       "   rating  timestamp_y    year  \n",
       "0     4.0    964982703  1995.0  \n",
       "0     4.0    964982703  1995.0  \n",
       "0     4.0    964982703  1995.0  \n",
       "0     4.0    964982703  1995.0  \n",
       "0     4.0    964982703  1995.0  "
      ]
     },
     "execution_count": 60,
     "metadata": {},
     "output_type": "execute_result"
    }
   ],
   "source": [
    "# Converting year to date-time format\n",
    "merged_df['year'] = pd.to_datetime(merged_df['year'])\n",
    "# Keeping the year only\n",
    "merged_df['year'] = merged_df['year'].dt.year\n",
    "# previewing the changes\n",
    "merged_df.head()"
   ]
  },
  {
   "cell_type": "markdown",
   "metadata": {},
   "source": [
    "### Checking Outliers"
   ]
  },
  {
   "cell_type": "code",
   "execution_count": 61,
   "metadata": {
    "scrolled": false
   },
   "outputs": [
    {
     "data": {
      "image/png": "[encoded data removed]",
      "text/plain": [
       "<Figure size 432x288 with 1 Axes>"
      ]
     },
     "metadata": {
      "needs_background": "light"
     },
     "output_type": "display_data"
    },
    {
     "data": {
      "image/png": "[encoded data removed]",
      "text/plain": [
       "<Figure size 576x432 with 1 Axes>"
      ]
     },
     "metadata": {
      "needs_background": "light"
     },
     "output_type": "display_data"
    },
    {
     "data": {
      "image/png": "[encoded data removed]",
      "text/plain": [
       "<Figure size 432x288 with 1 Axes>"
      ]
     },
     "metadata": {
      "needs_background": "light"
     },
     "output_type": "display_data"
    },
    {
     "data": {
      "image/png": "[encoded data removed]",
      "text/plain": [
       "<Figure size 576x432 with 1 Axes>"
      ]
     },
     "metadata": {
      "needs_background": "light"
     },
     "output_type": "display_data"
    },
    {
     "data": {
      "image/png": "[encoded data removed]",
      "text/plain": [
       "<Figure size 432x288 with 1 Axes>"
      ]
     },
     "metadata": {
      "needs_background": "light"
     },
     "output_type": "display_data"
    },
    {
     "data": {
      "image/png": "[encoded data removed]",
      "text/plain": [
       "<Figure size 576x432 with 1 Axes>"
      ]
     },
     "metadata": {
      "needs_background": "light"
     },
     "output_type": "display_data"
    },
    {
     "data": {
      "image/png": "[encoded data removed]",
      "text/plain": [
       "<Figure size 432x288 with 1 Axes>"
      ]
     },
     "metadata": {
      "needs_background": "light"
     },
     "output_type": "display_data"
    },
    {
     "data": {
      "image/png": "[encoded data removed]",
      "text/plain": [
       "<Figure size 576x432 with 1 Axes>"
      ]
     },
     "metadata": {
      "needs_background": "light"
     },
     "output_type": "display_data"
    },
    {
     "data": {
      "image/png": "[encoded data removed]",
      "text/plain": [
       "<Figure size 432x288 with 1 Axes>"
      ]
     },
     "metadata": {
      "needs_background": "light"
     },
     "output_type": "display_data"
    },
    {
     "data": {
      "image/png": "[encoded data removed]",
      "text/plain": [
       "<Figure size 576x432 with 1 Axes>"
      ]
     },
     "metadata": {
      "needs_background": "light"
     },
     "output_type": "display_data"
    },
    {
     "data": {
      "image/png": "[encoded data removed]",
      "text/plain": [
       "<Figure size 432x288 with 1 Axes>"
      ]
     },
     "metadata": {
      "needs_background": "light"
     },
     "output_type": "display_data"
    },
    {
     "data": {
      "image/png": "[encoded data removed]",
      "text/plain": [
       "<Figure size 576x432 with 1 Axes>"
      ]
     },
     "metadata": {
      "needs_background": "light"
     },
     "output_type": "display_data"
    },
    {
     "data": {
      "image/png": "[encoded data removed]",
      "text/plain": [
       "<Figure size 432x288 with 1 Axes>"
      ]
     },
     "metadata": {
      "needs_background": "light"
     },
     "output_type": "display_data"
    },
    {
     "data": {
      "image/png": "[encoded data removed]",
      "text/plain": [
       "<Figure size 576x432 with 1 Axes>"
      ]
     },
     "metadata": {
      "needs_background": "light"
     },
     "output_type": "display_data"
    }
   ],
   "source": [
    "numeric_columns = merged_df.select_dtypes(include=\"number\").columns\n",
    "for col in numeric_columns:\n",
    "    sns.boxplot(x=merged_df[col])\n",
    "    plt.figure(figsize=(8,6))\n",
    "    plt.xlabel('Column')\n",
    "    plt.title(f'boxplot of {col}')\n",
    "    plt.show()"
   ]
  },
  {
   "cell_type": "markdown",
   "metadata": {},
   "source": [
    "# Explarotary Data Analysis"
   ]
  },
  {
   "cell_type": "markdown",
   "metadata": {},
   "source": [
    "### Univariate Analysis"
   ]
  },
  {
   "cell_type": "code",
   "execution_count": 62,
   "metadata": {},
   "outputs": [
    {
     "data": {
      "text/html": [
       "<div>\n",
       "<style scoped>\n",
       "    .dataframe tbody tr th:only-of-type {\n",
       "        vertical-align: middle;\n",
       "    }\n",
       "\n",
       "    .dataframe tbody tr th {\n",
       "        vertical-align: top;\n",
       "    }\n",
       "\n",
       "    .dataframe thead th {\n",
       "        text-align: right;\n",
       "    }\n",
       "</style>\n",
       "<table border=\"1\" class=\"dataframe\">\n",
       "  <thead>\n",
       "    <tr style=\"text-align: right;\">\n",
       "      <th></th>\n",
       "      <th>count</th>\n",
       "      <th>mean</th>\n",
       "      <th>std</th>\n",
       "      <th>min</th>\n",
       "      <th>25%</th>\n",
       "      <th>50%</th>\n",
       "      <th>75%</th>\n",
       "      <th>max</th>\n",
       "    </tr>\n",
       "  </thead>\n",
       "  <tbody>\n",
       "    <tr>\n",
       "      <th>movieId</th>\n",
       "      <td>765271.0</td>\n",
       "      <td>1.298585e+04</td>\n",
       "      <td>2.825240e+04</td>\n",
       "      <td>1.000000e+00</td>\n",
       "      <td>2.960000e+02</td>\n",
       "      <td>1.035000e+03</td>\n",
       "      <td>4.878000e+03</td>\n",
       "      <td>1.935650e+05</td>\n",
       "    </tr>\n",
       "    <tr>\n",
       "      <th>userId_x</th>\n",
       "      <td>765271.0</td>\n",
       "      <td>4.797523e+02</td>\n",
       "      <td>1.543547e+02</td>\n",
       "      <td>2.000000e+00</td>\n",
       "      <td>4.740000e+02</td>\n",
       "      <td>4.770000e+02</td>\n",
       "      <td>5.990000e+02</td>\n",
       "      <td>6.100000e+02</td>\n",
       "    </tr>\n",
       "    <tr>\n",
       "      <th>timestamp_x</th>\n",
       "      <td>765271.0</td>\n",
       "      <td>1.399591e+09</td>\n",
       "      <td>1.467196e+08</td>\n",
       "      <td>1.137179e+09</td>\n",
       "      <td>1.262796e+09</td>\n",
       "      <td>1.498456e+09</td>\n",
       "      <td>1.498457e+09</td>\n",
       "      <td>1.537099e+09</td>\n",
       "    </tr>\n",
       "    <tr>\n",
       "      <th>userId_y</th>\n",
       "      <td>765271.0</td>\n",
       "      <td>3.083080e+02</td>\n",
       "      <td>1.779265e+02</td>\n",
       "      <td>1.000000e+00</td>\n",
       "      <td>1.560000e+02</td>\n",
       "      <td>3.080000e+02</td>\n",
       "      <td>4.540000e+02</td>\n",
       "      <td>6.100000e+02</td>\n",
       "    </tr>\n",
       "    <tr>\n",
       "      <th>rating</th>\n",
       "      <td>765271.0</td>\n",
       "      <td>3.993245e+00</td>\n",
       "      <td>9.662002e-01</td>\n",
       "      <td>5.000000e-01</td>\n",
       "      <td>3.500000e+00</td>\n",
       "      <td>4.000000e+00</td>\n",
       "      <td>5.000000e+00</td>\n",
       "      <td>5.000000e+00</td>\n",
       "    </tr>\n",
       "    <tr>\n",
       "      <th>timestamp_y</th>\n",
       "      <td>765271.0</td>\n",
       "      <td>1.215775e+09</td>\n",
       "      <td>2.275019e+08</td>\n",
       "      <td>8.281246e+08</td>\n",
       "      <td>1.013395e+09</td>\n",
       "      <td>1.221158e+09</td>\n",
       "      <td>1.446572e+09</td>\n",
       "      <td>1.537799e+09</td>\n",
       "    </tr>\n",
       "    <tr>\n",
       "      <th>year</th>\n",
       "      <td>765268.0</td>\n",
       "      <td>1.995209e+03</td>\n",
       "      <td>1.096203e+01</td>\n",
       "      <td>1.921000e+03</td>\n",
       "      <td>1.994000e+03</td>\n",
       "      <td>1.994000e+03</td>\n",
       "      <td>2.001000e+03</td>\n",
       "      <td>2.018000e+03</td>\n",
       "    </tr>\n",
       "  </tbody>\n",
       "</table>\n",
       "</div>"
      ],
      "text/plain": [
       "                count          mean           std           min           25%  \\\n",
       "movieId      765271.0  1.298585e+04  2.825240e+04  1.000000e+00  2.960000e+02   \n",
       "userId_x     765271.0  4.797523e+02  1.543547e+02  2.000000e+00  4.740000e+02   \n",
       "timestamp_x  765271.0  1.399591e+09  1.467196e+08  1.137179e+09  1.262796e+09   \n",
       "userId_y     765271.0  3.083080e+02  1.779265e+02  1.000000e+00  1.560000e+02   \n",
       "rating       765271.0  3.993245e+00  9.662002e-01  5.000000e-01  3.500000e+00   \n",
       "timestamp_y  765271.0  1.215775e+09  2.275019e+08  8.281246e+08  1.013395e+09   \n",
       "year         765268.0  1.995209e+03  1.096203e+01  1.921000e+03  1.994000e+03   \n",
       "\n",
       "                      50%           75%           max  \n",
       "movieId      1.035000e+03  4.878000e+03  1.935650e+05  \n",
       "userId_x     4.770000e+02  5.990000e+02  6.100000e+02  \n",
       "timestamp_x  1.498456e+09  1.498457e+09  1.537099e+09  \n",
       "userId_y     3.080000e+02  4.540000e+02  6.100000e+02  \n",
       "rating       4.000000e+00  5.000000e+00  5.000000e+00  \n",
       "timestamp_y  1.221158e+09  1.446572e+09  1.537799e+09  \n",
       "year         1.994000e+03  2.001000e+03  2.018000e+03  "
      ]
     },
     "execution_count": 62,
     "metadata": {},
     "output_type": "execute_result"
    }
   ],
   "source": [
    "# checking summary stats for the dataset\n",
    "merged_df.describe().T"
   ]
  },
  {
   "cell_type": "code",
   "execution_count": 63,
   "metadata": {},
   "outputs": [
    {
     "data": {
      "text/plain": [
       "thought-provoking              9736\n",
       "Disney                         8432\n",
       "sci-fi                         8154\n",
       "twist ending                   7423\n",
       "atmospheric                    7173\n",
       "                               ... \n",
       "procedural                        1\n",
       "political right versus left       1\n",
       "teenagers                         1\n",
       "Quakers                           1\n",
       "Sustainability                    1\n",
       "Name: tag, Length: 1584, dtype: int64"
      ]
     },
     "execution_count": 63,
     "metadata": {},
     "output_type": "execute_result"
    }
   ],
   "source": [
    "# checking values in tag column\n",
    "merged_df['tag'].value_counts()"
   ]
  },
  {
   "cell_type": "code",
   "execution_count": 64,
   "metadata": {},
   "outputs": [
    {
     "data": {
      "image/png": "[encoded data removed]",
      "text/plain": [
       "<Figure size 720x432 with 1 Axes>"
      ]
     },
     "metadata": {
      "needs_background": "light"
     },
     "output_type": "display_data"
    }
   ],
   "source": [
    "# Count the number of ratings for each movie\n",
    "movie_ratings = merged_df['title'].value_counts().head(10)\n",
    "\n",
    "# Plotting the top 10 most rated movies\n",
    "plt.figure(figsize=(10, 6))\n",
    "sns.barplot(x=movie_ratings.values, y=movie_ratings.index)\n",
    "plt.xlabel('Number of Ratings')\n",
    "plt.ylabel('Movie Title')\n",
    "plt.title('Top 10 Most Rated Movies')\n",
    "plt.show()\n"
   ]
  },
  {
   "cell_type": "code",
   "execution_count": 65,
   "metadata": {},
   "outputs": [
    {
     "data": {
      "image/png": "[encoded data removed]",
      "text/plain": [
       "<Figure size 720x432 with 1 Axes>"
      ]
     },
     "metadata": {
      "needs_background": "light"
     },
     "output_type": "display_data"
    }
   ],
   "source": [
    "plt.figure(figsize=(10, 6))\n",
    "sns.histplot(merged_df['rating'], kde=True)\n",
    "plt.xlabel('Rating')\n",
    "plt.ylabel('Frequency')\n",
    "plt.title('Distribution of Movie Ratings')\n",
    "plt.show()"
   ]
  },
  {
   "cell_type": "code",
   "execution_count": 66,
   "metadata": {},
   "outputs": [
    {
     "data": {
      "image/png": "[encoded data removed]",
      "text/plain": [
       "<Figure size 720x432 with 1 Axes>"
      ]
     },
     "metadata": {
      "needs_background": "light"
     },
     "output_type": "display_data"
    }
   ],
   "source": [
    "# Plot a bar chart for the top tags\n",
    "tag_counts\n",
    "top_tags = tag_counts.head(10)\n",
    "\n",
    "plt.figure(figsize=(10, 6))\n",
    "top_tags.plot(kind='barh', color='pink')\n",
    "plt.title('Top 10 Tags')\n",
    "plt.xlabel('Number of Occurrences')\n",
    "plt.ylabel('Tags')\n",
    "plt.show()"
   ]
  },
  {
   "cell_type": "code",
   "execution_count": 67,
   "metadata": {},
   "outputs": [
    {
     "data": {
      "image/png": "[encoded data removed]",
      "text/plain": [
       "<Figure size 1152x720 with 1 Axes>"
      ]
     },
     "metadata": {
      "needs_background": "light"
     },
     "output_type": "display_data"
    }
   ],
   "source": [
    "# Plot a bar chart for genre distribution\n",
    "# Flatten the 'genres' lists\n",
    "all_genres = [genre for genres_list in merged_df['genres'] for genre in genres_list]\n",
    "\n",
    "genre_counts = pd.Series(all_genres).value_counts()\n",
    "\n",
    "# plotting the distribution\n",
    "plt.figure(figsize=(16, 10))\n",
    "genre_counts.plot(kind='bar', color='lightblue')\n",
    "plt.title('Genre Distribution')\n",
    "plt.xlabel('Genres')\n",
    "plt.ylabel('Number of Movies')\n",
    "plt.xticks(rotation=45, ha='right')\n",
    "plt.show()"
   ]
  },
  {
   "cell_type": "code",
   "execution_count": 68,
   "metadata": {},
   "outputs": [
    {
     "data": {
      "image/png": "[encoded data removed]",
      "text/plain": [
       "<Figure size 1152x720 with 1 Axes>"
      ]
     },
     "metadata": {
      "needs_background": "light"
     },
     "output_type": "display_data"
    }
   ],
   "source": [
    "# Plot a line chart for movie count over the years\n",
    "movie_count_per_year = merged_df['year'].value_counts().sort_index()\n",
    "\n",
    "plt.figure(figsize=(16, 10))\n",
    "movie_count_per_year.plot(kind='line', marker='o', color='pink')\n",
    "plt.title('Movie Count Over Years')\n",
    "plt.xlabel('Year')\n",
    "plt.ylabel('Number of Movies')\n",
    "plt.show()"
   ]
  },
  {
   "cell_type": "code",
   "execution_count": 69,
   "metadata": {},
   "outputs": [],
   "source": [
    "v_rate = dict(merged_df['rating'].value_counts())"
   ]
  },
  {
   "cell_type": "code",
   "execution_count": 70,
   "metadata": {},
   "outputs": [
    {
     "data": {
      "image/png": "[encoded data removed]",
      "text/plain": [
       "<Figure size 432x288 with 1 Axes>"
      ]
     },
     "metadata": {
      "needs_background": "light"
     },
     "output_type": "display_data"
    },
    {
     "data": {
      "text/plain": [
       "<Figure size 1008x576 with 0 Axes>"
      ]
     },
     "metadata": {},
     "output_type": "display_data"
    }
   ],
   "source": [
    "plt.title('Rating')\n",
    "sns.barplot(data=merged_df, x= list(v_rate.keys()),y=list(v_rate.values()))\n",
    "plt.figure(figsize=(14, 8))\n",
    "plt.show()"
   ]
  },
  {
   "cell_type": "code",
   "execution_count": 71,
   "metadata": {},
   "outputs": [
    {
     "data": {
      "image/png": "[encoded data removed]",
      "text/plain": [
       "<Figure size 864x504 with 1 Axes>"
      ]
     },
     "metadata": {
      "needs_background": "light"
     },
     "output_type": "display_data"
    }
   ],
   "source": [
    "top_10_views = merged_df['title'].value_counts().head(10)\n",
    "plt.figure(figsize=(12, 7))\n",
    "sns.barplot(top_10_views.index, top_10_views.values)\n",
    "plt.title('Top 10 most viewed movies')\n",
    "plt.xlabel('Top 10 most viewed Movie')\n",
    "plt.xticks(rotation=90)\n",
    "plt.ylabel('Count')\n",
    "plt.show()"
   ]
  },
  {
   "cell_type": "markdown",
   "metadata": {},
   "source": [
    "# Bivariate Analysis"
   ]
  },
  {
   "cell_type": "code",
   "execution_count": 74,
   "metadata": {},
   "outputs": [
    {
     "data": {
      "image/png": "[encoded data removed]",
      "text/plain": [
       "<Figure size 1080x576 with 2 Axes>"
      ]
     },
     "metadata": {
      "needs_background": "light"
     },
     "output_type": "display_data"
    }
   ],
   "source": [
    "#plot correlation\n",
    "plt.figure(figsize=(15, 8))\n",
    "# Create a mask to display only the upper half of the matrix\n",
    "mask = np.triu(merged_df.corr())\n",
    "sns.heatmap(merged_df.corr(), annot=True, cmap='viridis', mask=mask)\n",
    "plt.show()"
   ]
  },
  {
   "cell_type": "code",
   "execution_count": 26,
   "metadata": {},
   "outputs": [
    {
     "name": "stdout",
     "output_type": "stream",
     "text": [
      "1     Toy Story\n",
      "2     Toy Story\n",
      "3     Toy Story\n",
      "4     Toy Story\n",
      "5     Toy Story\n",
      "6     Toy Story\n",
      "7     Toy Story\n",
      "8     Toy Story\n",
      "9     Toy Story\n",
      "10    Toy Story\n",
      "Name: title, dtype: object\n"
     ]
    }
   ],
   "source": [
    "# Create a set of English stopwords\n",
    "stop_words = set(stopwords.words('english'))\n",
    "\n",
    "# Function that takes in movie title as input and outputs most similar movies\n",
    "def get_recommendations(title, data_frame):\n",
    "    # Get the index of the movie that matches the title\n",
    "    idx = data_frame.index[data_frame['title'] == title][0]\n",
    "\n",
    "    # Create a TF-IDF vectorizer\n",
    "    tfidf_vectorizer = TfidfVectorizer(stop_words=stop_words)\n",
    "\n",
    "    # Fit and transform the movie titles into TF-IDF vectors\n",
    "    tfidf_matrix = tfidf_vectorizer.fit_transform(data_frame['title'])\n",
    "\n",
    "    # Get the pairwsie similarity scores of all movies with that movie\n",
    "    sim_scores = list(enumerate(cosine_similarity(tfidf_matrix, tfidf_matrix[idx])))\n",
    "\n",
    "    # Sort the movies based on the similarity scores\n",
    "    sim_scores = sorted(sim_scores, key=lambda x: x[1], reverse=True)\n",
    "\n",
    "    # Get the scores of the 10 most similar movies\n",
    "    sim_scores = sim_scores[1:11]\n",
    "\n",
    "    # Get the movie indices\n",
    "    movie_indices = [i[0] for i in sim_scores]\n",
    "\n",
    "    # Return the top 10 most similar movies\n",
    "    return data_frame['title'].iloc[movie_indices]\n",
    "\n",
    "recommended_movies = get_recommendations('More', merged_df)\n",
    "print(recommended_movies)"
   ]
  }
 ],
 "metadata": {
  "kernelspec": {
   "display_name": "Python 3",
   "language": "python",
   "name": "python3"
  },
  "language_info": {
   "codemirror_mode": {
    "name": "ipython",
    "version": 3
   },
   "file_extension": ".py",
   "mimetype": "text/x-python",
   "name": "python",
   "nbconvert_exporter": "python",
   "pygments_lexer": "ipython3",
   "version": "3.8.5"
  }
 },
 "nbformat": 4,
 "nbformat_minor": 2
}
